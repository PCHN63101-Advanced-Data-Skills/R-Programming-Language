{
 "cells": [
  {
   "cell_type": "markdown",
   "id": "80c7cb9f-0d71-4918-82c7-7ff21b81f370",
   "metadata": {},
   "source": [
    "# Basic Programming Concepts\n",
    "This can be a bit dry and tedious to go through, especially with limited context. However, it is worthwhile going through this section at this point to familiarise yourself with some of these concepts. You can then use this section as a *reference* in future to remind youself of how some of these basic language elements work."
   ]
  },
  {
   "cell_type": "markdown",
   "id": "4a09533c-da26-4dde-8b79-886fcfba1906",
   "metadata": {},
   "source": [
    "## Variables\n",
    "\n",
    "`````{admonition} Key Concept\n",
    ":class: tip\n",
    "A variable is a box that we store data inside so we can use it again later. We give this box a name and then refer to it by name whenever we want to use it. Every time we type the name into `R`, the box gets opened and we retrieve the data.\n",
    "`````\n",
    "\n",
    "`````{admonition} Variable Names\n",
    ":class: important\n",
    "Note that there are some important limitations when choosing names for your variables.\n",
    "`````"
   ]
  },
  {
   "cell_type": "markdown",
   "id": "c1cedbd4-62a3-4609-b270-5b62d26a38d5",
   "metadata": {},
   "source": [
    "## Relational Operators\n",
    "\n",
    "`````{admonition} The Importance of Spaces\n",
    ":class: warning\n",
    "Because the symbol `<` means *less-than*, we need to be a bit cautious. For instance, if we do not include any spaces and type `a<-5`, are we assigning `5` to `a`, or are we asking whether `a` is less-than `-5`? To make our intention clearer, we should include spaces so we easily differentiate between `a <- 5` and `a < -5`.\n",
    "`````"
   ]
  },
  {
   "cell_type": "markdown",
   "id": "4718643e-9241-4515-83cc-e44805dce8ac",
   "metadata": {},
   "source": [
    "## Data Structures"
   ]
  },
  {
   "cell_type": "markdown",
   "id": "97b695c7-fced-4202-af5e-3972e9ef3d92",
   "metadata": {},
   "source": [
    "### Vectors"
   ]
  },
  {
   "cell_type": "markdown",
   "id": "cafe2226-6299-483b-afc6-53ba82c63a04",
   "metadata": {},
   "source": [
    "### Lists"
   ]
  },
  {
   "cell_type": "markdown",
   "id": "b95470d2-f0c8-464b-81cd-cef36aea9442",
   "metadata": {},
   "source": [
    "### Matrices"
   ]
  },
  {
   "cell_type": "markdown",
   "id": "b4bee3ff-066a-4d86-9ba8-c8124add61e3",
   "metadata": {},
   "source": [
    "### Data Frames"
   ]
  },
  {
   "cell_type": "markdown",
   "id": "c3bedec7-6498-4f44-b076-c7a67c1dd178",
   "metadata": {},
   "source": [
    "### Factors\n",
    "Most programming languages do not have a concept of *factors*. However, because `R` was designed for statistics and data analysis, a factor is a built-in data type."
   ]
  },
  {
   "cell_type": "markdown",
   "id": "e14f7395-ef09-4ae7-ba10-6851c5945109",
   "metadata": {},
   "source": [
    "## Control Flow\n",
    "\n",
    "### If Statements\n",
    "\n",
    "### For Loops\n",
    "\n",
    "### While Loops"
   ]
  },
  {
   "cell_type": "markdown",
   "id": "49e39c65-850a-4110-8ee7-0442adb86ae0",
   "metadata": {},
   "source": [
    "## Functions"
   ]
  },
  {
   "cell_type": "code",
   "execution_count": null,
   "id": "d5c71c86-254e-4661-b251-bf05334f532f",
   "metadata": {},
   "outputs": [],
   "source": []
  }
 ],
 "metadata": {
  "kernelspec": {
   "display_name": "R",
   "language": "R",
   "name": "ir"
  },
  "language_info": {
   "codemirror_mode": "r",
   "file_extension": ".r",
   "mimetype": "text/x-r-source",
   "name": "R",
   "pygments_lexer": "r",
   "version": "4.4.2"
  }
 },
 "nbformat": 4,
 "nbformat_minor": 5
}