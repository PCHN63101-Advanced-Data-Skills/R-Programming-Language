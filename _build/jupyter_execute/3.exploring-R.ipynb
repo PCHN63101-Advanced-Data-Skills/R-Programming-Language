{
 "cells": [
  {
   "cell_type": "markdown",
   "id": "e5caa6af-ef06-44fe-8516-eb6d5eddad83",
   "metadata": {},
   "source": [
    "# Exploring the R Language\n",
    "\n",
    "Before we start digging into the details of programming with `R`, it is useful to see some motivating examples of actually using `R`. Here, you can start to play around with `R` and `RStudio` and get a feel for the workflow."
   ]
  },
  {
   "cell_type": "markdown",
   "id": "5847ad06-a9a3-4872-8009-e4228033378f",
   "metadata": {},
   "source": [
    "## The R Console\n",
    "When you first open `RStudio`, the console will be visible as a panel on the *left*, as shown in {numref}`rstudio-fig`. You can see that there is a tab marked `Console` at the top of this panel. When we first launch `R`, information about the current version, license and other disclaimers will be printed in the console. Below all this, we will see the prompt, indicated by the `>` symbol. This indicates where we can type commands for `R` to interpret.\n",
    "\n",
    "```{figure} images/rstudio.png\n",
    "---\n",
    "width: 100%\n",
    "name: rstudio-fig\n",
    "---\n",
    "The basic `RStudio` interface.\n",
    "```\n",
    "\n",
    "`````{admonition} Communicating With R\n",
    ":class: tip\n",
    "Like any interpreted programming language[^foot1], we type commands into the `R` console, press <kbd>&#9166;</kbd> and what we typed gets sent to the `R` interpreter. If the interpreter understands what we have types, it will perform the requested actions and then return the result. If it does not understand what we typed, it will return an error.\n",
    "\n",
    "In general, the workflow when using `R` is like a conversation. At each point, we ask `R` to do something for us and `R` will return the answer. Of course, in order to do this we need to understand how to talk to `R`, which is why we must learn the syntax and structure of the language so we can communicate what it is that we want.\n",
    "\n",
    "If you have never learned a programming language before, there will be a steep learning curve as you get used to this way of working. This will start will a lot of frustration, as you will likely be getting more errors than useful outputs. Just remember ...\n",
    "`````\n"
   ]
  },
  {
   "cell_type": "markdown",
   "id": "3508ebd3-7bbd-4128-a395-153c099d5acb",
   "metadata": {},
   "source": [
    "[^foot1]: An *interpreted* programming language is one where..."
   ]
  },
  {
   "cell_type": "markdown",
   "id": "a287c98b-717f-4da3-956a-c1ca40fff70f",
   "metadata": {},
   "source": [
    "## R as a Calculator\n",
    "To ease you into the process of using `R`, we will start by basically using `R` as an over-engineered calculator. This will get you used to interacting with the interpreter through the console, before we move on to some more usual ways of using the language.\n",
    "\n",
    "To begin with, just try typing a basic calculation into the console and then pressing <kbd>&#9166;</kbd>. For example"
   ]
  },
  {
   "cell_type": "code",
   "execution_count": 22,
   "id": "cc1187c0-cafa-41a4-a2fa-72bedd07b0ab",
   "metadata": {},
   "outputs": [
    {
     "data": {
      "text/html": [
       "12"
      ],
      "text/latex": [
       "12"
      ],
      "text/markdown": [
       "12"
      ],
      "text/plain": [
       "[1] 12"
      ]
     },
     "metadata": {},
     "output_type": "display_data"
    }
   ],
   "source": [
    "7 + 5"
   ]
  },
  {
   "cell_type": "markdown",
   "id": "5fe83c13-8594-4b85-b132-b7c0c3d85bd2",
   "metadata": {},
   "source": [
    "Here, we asked `R` what $7 + 5$ is and it correctly returned the answer of $12$. Similarly, we can perform subtraction using:"
   ]
  },
  {
   "cell_type": "code",
   "execution_count": 43,
   "id": "d61e174d-1120-43e9-a7fe-03ba20b2e760",
   "metadata": {},
   "outputs": [
    {
     "data": {
      "text/html": [
       "-2"
      ],
      "text/latex": [
       "-2"
      ],
      "text/markdown": [
       "-2"
      ],
      "text/plain": [
       "[1] -2"
      ]
     },
     "metadata": {},
     "output_type": "display_data"
    }
   ],
   "source": [
    "3 - 5"
   ]
  },
  {
   "cell_type": "markdown",
   "id": "e2813779-d4fa-470c-8eb1-19c21a064ac8",
   "metadata": {},
   "source": [
    "In general, `R` has built-in support for all the main mathematical operators. The table below provides a comparison between them. Try using some of these on your own to check you understand how they work\n",
    "\n",
    "|    Operator   |             Meaning            |   Example    |\n",
    "| :------------ | ------------------------------ | -----------: |\n",
    "|      `+`      |  Addition                      | `1 + 2`      |\n",
    "|      `-`      |  Subtraction                   | `10 - 8`     |\n",
    "|      `*`      |  Multiplication                | `6 * 7`      |\n",
    "|      `/`      |  Division                      | `10 / 2`     |\n",
    "|      `^`      |  Exponent                      | `3^2`        |\n",
    "|      `%%`     |  Division Remainder (Modulus)  | `10 %% 3`    |"
   ]
  },
  {
   "cell_type": "markdown",
   "id": "328df27d-e80f-43e5-81cb-b0130c96690f",
   "metadata": {},
   "source": [
    "## Assigning Values to a Variable\n",
    "... We will discuss more about variables in the next section. For now, just note that the `R` syntax to assign a value to a variable uses the operator `<-`. For example"
   ]
  },
  {
   "cell_type": "code",
   "execution_count": 69,
   "id": "5a7fdde7-b645-4fb6-99ec-5acf29173d17",
   "metadata": {},
   "outputs": [],
   "source": [
    "a <- 5"
   ]
  },
  {
   "cell_type": "markdown",
   "id": "e0bf7ea0-c185-429d-acce-abdf402a6f45",
   "metadata": {},
   "source": [
    "has assigned the value `5` to a variable called `a`.\n",
    "\n",
    "`````{admonition} Why the Funny Assignment Operator?\n",
    ":class: tip\n",
    "The use of the symbol `<-` may seem a strange choice within `R`, especially when all other programming languages use `=` for assignment. However, there are some good reasons for using `<-`. Firstly, it is possible to use `=` for assignment in `R`, but typically we reserve this for named function arguments (more on that later). The utility of the `<-` symbol is that it indicates the *direction* of assignment, which you cannot do using `=`. What this means is that the *flow* of assigment is clear, but also means we can perform assignment in the *other direction*, if we want. For instance, we can write either `a <- 5` or `5 -> a`. Although we will generally have a preference for assigning from right-to-left, there may be situations where the code is clearer is the assignment happens left-to-right.\n",
    "`````"
   ]
  },
  {
   "cell_type": "markdown",
   "id": "f82a67aa-49fb-436f-a052-1e78f8337e56",
   "metadata": {},
   "source": [
    "## Viewing a Dataset\n"
   ]
  },
  {
   "cell_type": "code",
   "execution_count": 98,
   "id": "c2daf420-c7c6-495f-a590-6e7f2151a8eb",
   "metadata": {},
   "outputs": [
    {
     "data": {
      "text/html": [
       "<table class=\"dataframe\">\n",
       "<caption>A data.frame: 6 × 11</caption>\n",
       "<thead>\n",
       "\t<tr><th></th><th scope=col>mpg</th><th scope=col>cyl</th><th scope=col>disp</th><th scope=col>hp</th><th scope=col>drat</th><th scope=col>wt</th><th scope=col>qsec</th><th scope=col>vs</th><th scope=col>am</th><th scope=col>gear</th><th scope=col>carb</th></tr>\n",
       "\t<tr><th></th><th scope=col>&lt;dbl&gt;</th><th scope=col>&lt;dbl&gt;</th><th scope=col>&lt;dbl&gt;</th><th scope=col>&lt;dbl&gt;</th><th scope=col>&lt;dbl&gt;</th><th scope=col>&lt;dbl&gt;</th><th scope=col>&lt;dbl&gt;</th><th scope=col>&lt;dbl&gt;</th><th scope=col>&lt;dbl&gt;</th><th scope=col>&lt;dbl&gt;</th><th scope=col>&lt;dbl&gt;</th></tr>\n",
       "</thead>\n",
       "<tbody>\n",
       "\t<tr><th scope=row>Mazda RX4</th><td>21.0</td><td>6</td><td>160</td><td>110</td><td>3.90</td><td>2.620</td><td>16.46</td><td>0</td><td>1</td><td>4</td><td>4</td></tr>\n",
       "\t<tr><th scope=row>Mazda RX4 Wag</th><td>21.0</td><td>6</td><td>160</td><td>110</td><td>3.90</td><td>2.875</td><td>17.02</td><td>0</td><td>1</td><td>4</td><td>4</td></tr>\n",
       "\t<tr><th scope=row>Datsun 710</th><td>22.8</td><td>4</td><td>108</td><td> 93</td><td>3.85</td><td>2.320</td><td>18.61</td><td>1</td><td>1</td><td>4</td><td>1</td></tr>\n",
       "\t<tr><th scope=row>Hornet 4 Drive</th><td>21.4</td><td>6</td><td>258</td><td>110</td><td>3.08</td><td>3.215</td><td>19.44</td><td>1</td><td>0</td><td>3</td><td>1</td></tr>\n",
       "\t<tr><th scope=row>Hornet Sportabout</th><td>18.7</td><td>8</td><td>360</td><td>175</td><td>3.15</td><td>3.440</td><td>17.02</td><td>0</td><td>0</td><td>3</td><td>2</td></tr>\n",
       "\t<tr><th scope=row>Valiant</th><td>18.1</td><td>6</td><td>225</td><td>105</td><td>2.76</td><td>3.460</td><td>20.22</td><td>1</td><td>0</td><td>3</td><td>1</td></tr>\n",
       "</tbody>\n",
       "</table>\n"
      ],
      "text/latex": [
       "A data.frame: 6 × 11\n",
       "\\begin{tabular}{r|lllllllllll}\n",
       "  & mpg & cyl & disp & hp & drat & wt & qsec & vs & am & gear & carb\\\\\n",
       "  & <dbl> & <dbl> & <dbl> & <dbl> & <dbl> & <dbl> & <dbl> & <dbl> & <dbl> & <dbl> & <dbl>\\\\\n",
       "\\hline\n",
       "\tMazda RX4 & 21.0 & 6 & 160 & 110 & 3.90 & 2.620 & 16.46 & 0 & 1 & 4 & 4\\\\\n",
       "\tMazda RX4 Wag & 21.0 & 6 & 160 & 110 & 3.90 & 2.875 & 17.02 & 0 & 1 & 4 & 4\\\\\n",
       "\tDatsun 710 & 22.8 & 4 & 108 &  93 & 3.85 & 2.320 & 18.61 & 1 & 1 & 4 & 1\\\\\n",
       "\tHornet 4 Drive & 21.4 & 6 & 258 & 110 & 3.08 & 3.215 & 19.44 & 1 & 0 & 3 & 1\\\\\n",
       "\tHornet Sportabout & 18.7 & 8 & 360 & 175 & 3.15 & 3.440 & 17.02 & 0 & 0 & 3 & 2\\\\\n",
       "\tValiant & 18.1 & 6 & 225 & 105 & 2.76 & 3.460 & 20.22 & 1 & 0 & 3 & 1\\\\\n",
       "\\end{tabular}\n"
      ],
      "text/markdown": [
       "\n",
       "A data.frame: 6 × 11\n",
       "\n",
       "| <!--/--> | mpg &lt;dbl&gt; | cyl &lt;dbl&gt; | disp &lt;dbl&gt; | hp &lt;dbl&gt; | drat &lt;dbl&gt; | wt &lt;dbl&gt; | qsec &lt;dbl&gt; | vs &lt;dbl&gt; | am &lt;dbl&gt; | gear &lt;dbl&gt; | carb &lt;dbl&gt; |\n",
       "|---|---|---|---|---|---|---|---|---|---|---|---|\n",
       "| Mazda RX4 | 21.0 | 6 | 160 | 110 | 3.90 | 2.620 | 16.46 | 0 | 1 | 4 | 4 |\n",
       "| Mazda RX4 Wag | 21.0 | 6 | 160 | 110 | 3.90 | 2.875 | 17.02 | 0 | 1 | 4 | 4 |\n",
       "| Datsun 710 | 22.8 | 4 | 108 |  93 | 3.85 | 2.320 | 18.61 | 1 | 1 | 4 | 1 |\n",
       "| Hornet 4 Drive | 21.4 | 6 | 258 | 110 | 3.08 | 3.215 | 19.44 | 1 | 0 | 3 | 1 |\n",
       "| Hornet Sportabout | 18.7 | 8 | 360 | 175 | 3.15 | 3.440 | 17.02 | 0 | 0 | 3 | 2 |\n",
       "| Valiant | 18.1 | 6 | 225 | 105 | 2.76 | 3.460 | 20.22 | 1 | 0 | 3 | 1 |\n",
       "\n"
      ],
      "text/plain": [
       "                  mpg  cyl disp hp  drat wt    qsec  vs am gear carb\n",
       "Mazda RX4         21.0 6   160  110 3.90 2.620 16.46 0  1  4    4   \n",
       "Mazda RX4 Wag     21.0 6   160  110 3.90 2.875 17.02 0  1  4    4   \n",
       "Datsun 710        22.8 4   108   93 3.85 2.320 18.61 1  1  4    1   \n",
       "Hornet 4 Drive    21.4 6   258  110 3.08 3.215 19.44 1  0  3    1   \n",
       "Hornet Sportabout 18.7 8   360  175 3.15 3.440 17.02 0  0  3    2   \n",
       "Valiant           18.1 6   225  105 2.76 3.460 20.22 1  0  3    1   "
      ]
     },
     "metadata": {},
     "output_type": "display_data"
    }
   ],
   "source": [
    "data('mtcars')\n",
    "head(mtcars)"
   ]
  },
  {
   "cell_type": "markdown",
   "id": "9ecedba7-c071-4bed-b3b2-a8b24218a695",
   "metadata": {},
   "source": [
    "## Making a Plot\n"
   ]
  },
  {
   "cell_type": "code",
   "execution_count": 94,
   "id": "1c63e271-5561-48c0-b440-9e486fa7e8bc",
   "metadata": {},
   "outputs": [
    {
     "data": {
      "image/png": "[encoded data removed]",
      "text/plain": [
       "plot without title"
      ]
     },
     "metadata": {
      "image/png": {
       "height": 420,
       "width": 420
      }
     },
     "output_type": "display_data"
    }
   ],
   "source": [
    "plot(mtcars$mpg,mtcars$wt)"
   ]
  },
  {
   "cell_type": "markdown",
   "id": "7aa71934-e478-4a25-b19f-f92878d48869",
   "metadata": {},
   "source": [
    "## Calculating a Correlation"
   ]
  },
  {
   "cell_type": "code",
   "execution_count": 105,
   "id": "2198bd23-9ebf-4541-bd06-71949758c203",
   "metadata": {},
   "outputs": [
    {
     "data": {
      "text/plain": [
       "\n",
       "\tPearson's product-moment correlation\n",
       "\n",
       "data:  mtcars$mpg and mtcars$wt\n",
       "t = -9.559, df = 30, p-value = 1.294e-10\n",
       "alternative hypothesis: true correlation is not equal to 0\n",
       "95 percent confidence interval:\n",
       " -0.9338264 -0.7440872\n",
       "sample estimates:\n",
       "       cor \n",
       "-0.8676594 \n"
      ]
     },
     "metadata": {},
     "output_type": "display_data"
    }
   ],
   "source": [
    "cor.test(mtcars$mpg,mtcars$wt)"
   ]
  },
  {
   "cell_type": "code",
   "execution_count": null,
   "id": "0729a896-ed36-4f79-ac93-5072bd7a69b7",
   "metadata": {},
   "outputs": [],
   "source": []
  }
 ],
 "metadata": {
  "kernelspec": {
   "display_name": "R",
   "language": "R",
   "name": "ir"
  },
  "language_info": {
   "codemirror_mode": "r",
   "file_extension": ".r",
   "mimetype": "text/x-r-source",
   "name": "R",
   "pygments_lexer": "r",
   "version": "4.4.2"
  }
 },
 "nbformat": 4,
 "nbformat_minor": 5
}