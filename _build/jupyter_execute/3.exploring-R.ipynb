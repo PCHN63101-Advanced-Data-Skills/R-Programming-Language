{
 "cells": [
  {
   "cell_type": "markdown",
   "id": "e5caa6af-ef06-44fe-8516-eb6d5eddad83",
   "metadata": {},
   "source": [
    "# Exploring the R Language"
   ]
  },
  {
   "cell_type": "code",
   "execution_count": null,
   "id": "2e7e03bc-0484-4dad-a609-939fc4e00cbc",
   "metadata": {},
   "outputs": [],
   "source": []
  }
 ],
 "metadata": {
  "kernelspec": {
   "display_name": "R",
   "language": "R",
   "name": "ir"
  },
  "language_info": {
   "codemirror_mode": "r",
   "file_extension": ".r",
   "mimetype": "text/x-r-source",
   "name": "R",
   "pygments_lexer": "r",
   "version": "4.3.3"
  }
 },
 "nbformat": 4,
 "nbformat_minor": 5
}