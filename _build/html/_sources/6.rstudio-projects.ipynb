{
 "cells": [
  {
   "cell_type": "markdown",
   "id": "ea58e58f-7aea-4f63-9c10-8eac388074a2",
   "metadata": {},
   "source": [
    "# RStudio Projects\n"
   ]
  },
  {
   "cell_type": "code",
   "execution_count": null,
   "id": "8e93cee8-7a01-4e25-b0ef-b5fbfc27506f",
   "metadata": {},
   "outputs": [],
   "source": []
  }
 ],
 "metadata": {
  "kernelspec": {
   "display_name": "R",
   "language": "R",
   "name": "ir"
  },
  "language_info": {
   "codemirror_mode": "r",
   "file_extension": ".r",
   "mimetype": "text/x-r-source",
   "name": "R",
   "pygments_lexer": "r",
   "version": "4.4.2"
  }
 },
 "nbformat": 4,
 "nbformat_minor": 5
}
