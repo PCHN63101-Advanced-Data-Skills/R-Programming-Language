{
 "cells": [
  {
   "cell_type": "markdown",
   "id": "8a6b3fd6-1753-45e7-a920-fccf68cbdcac",
   "metadata": {},
   "source": [
    "# What is R?\n",
    "\n",
    "`R` is a programming language designed for ..."
   ]
  },
  {
   "cell_type": "code",
   "execution_count": 2,
   "id": "774c0fdf-a33b-4eab-b922-e5e159a3b399",
   "metadata": {},
   "outputs": [
    {
     "data": {
      "text/html": [
       "5"
      ],
      "text/latex": [
       "5"
      ],
      "text/markdown": [
       "5"
      ],
      "text/plain": [
       "[1] 5"
      ]
     },
     "metadata": {},
     "output_type": "display_data"
    }
   ],
   "source": [
    "a <- 5\n",
    "a"
   ]
  },
  {
   "cell_type": "markdown",
   "id": "92739ed9-a79e-41ea-954d-4ef59de4b797",
   "metadata": {},
   "source": [
    "## History of R"
   ]
  },
  {
   "cell_type": "markdown",
   "id": "31b67826-7eda-43e4-9215-6346fd8a7091",
   "metadata": {},
   "source": [
    "## How do We Use R?\n",
    "\n",
    "So, like any programming language, we type commands into the `R` console, press <kbd>&#9166;</kbd> and what we typed gets sent to the `R` interpreter. If the interpreter understands what we have types, it will perform the requested actions and then return the result. If it does not understand what we typed, it will return an error.\n",
    "\n",
    "As a basic example, we could ask `R` for the result of a simple sum"
   ]
  },
  {
   "cell_type": "code",
   "execution_count": 4,
   "id": "3d1fe9e5-1ec4-467f-b5ff-c6ed2fa0ccf1",
   "metadata": {},
   "outputs": [
    {
     "data": {
      "text/html": [
       "12"
      ],
      "text/latex": [
       "12"
      ],
      "text/markdown": [
       "12"
      ],
      "text/plain": [
       "[1] 12"
      ]
     },
     "metadata": {},
     "output_type": "display_data"
    }
   ],
   "source": [
    "5 + 7"
   ]
  },
  {
   "cell_type": "markdown",
   "id": "6b0032cb-0e71-4456-b462-3a17848740de",
   "metadata": {},
   "source": [
    "Because `R` understands what we have written, it will return the answer. However, if we write something that `R` does not understand, we will get an error"
   ]
  },
  {
   "cell_type": "code",
   "execution_count": 6,
   "id": "ef7209c4-f330-48e0-958e-e5a585b855a4",
   "metadata": {},
   "outputs": [
    {
     "ename": "ERROR",
     "evalue": "Error in parse(text = x, srcfile = src): <text>:1:3: unexpected input\n1: 5 £\n      ^\n",
     "output_type": "error",
     "traceback": [
      "Error in parse(text = x, srcfile = src): <text>:1:3: unexpected input\n1: 5 £\n      ^\nTraceback:\n"
     ]
    }
   ],
   "source": [
    "5 £ 7"
   ]
  },
  {
   "cell_type": "markdown",
   "id": "e56cfdae-e722-4fa9-9964-86d7e76f7161",
   "metadata": {},
   "source": [
    "In general, the workflow when using `R` is like a conversation. At each point, we ask `R` to do something for us and `R` will return the answer. Of course, in order to do this we need to understand how to talk to `R`, which is why we must learn the syntax and structure of the language so we can communicate what it is that we want.\n",
    "\n",
    "```{admonition} Learning your first programming language\n",
    "If you have never learned a programming language before, there will be a steep learning curve as you get used to this way of working. This will start will a lot of frustration, as you will likely be getting more errors than useful outputs. Just remember ...\n",
    "```\n",
    "\n"
   ]
  },
  {
   "cell_type": "markdown",
   "id": "295c7889-5d15-46b8-946b-5a32297f0ad9",
   "metadata": {},
   "source": [
    "## Why Learn R?\n",
    "\n",
    "### R Packages"
   ]
  }
 ],
 "metadata": {
  "kernelspec": {
   "display_name": "R",
   "language": "R",
   "name": "ir"
  },
  "language_info": {
   "codemirror_mode": "r",
   "file_extension": ".r",
   "mimetype": "text/x-r-source",
   "name": "R",
   "pygments_lexer": "r",
   "version": "4.3.3"
  }
 },
 "nbformat": 4,
 "nbformat_minor": 5
}
