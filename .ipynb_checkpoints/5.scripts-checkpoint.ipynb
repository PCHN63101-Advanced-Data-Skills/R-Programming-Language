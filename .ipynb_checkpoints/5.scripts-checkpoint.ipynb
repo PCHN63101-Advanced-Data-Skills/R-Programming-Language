{
 "cells": [
  {
   "cell_type": "markdown",
   "id": "df0c5b30-c271-4fe3-ab0b-3cec1a2cf690",
   "metadata": {},
   "source": [
    "# Working with R Scripts\n",
    "\n",
    "## What is a Script?"
   ]
  },
  {
   "cell_type": "markdown",
   "id": "26acccc8-b671-4618-9a0c-b6e6cc6977fe",
   "metadata": {},
   "source": [
    "## Comments"
   ]
  },
  {
   "cell_type": "code",
   "execution_count": null,
   "id": "b457a231-d65f-4988-b828-508c67ea9725",
   "metadata": {},
   "outputs": [],
   "source": []
  }
 ],
 "metadata": {
  "kernelspec": {
   "display_name": "R",
   "language": "R",
   "name": "ir"
  },
  "language_info": {
   "codemirror_mode": "r",
   "file_extension": ".r",
   "mimetype": "text/x-r-source",
   "name": "R",
   "pygments_lexer": "r",
   "version": "4.3.3"
  }
 },
 "nbformat": 4,
 "nbformat_minor": 5
}
