{
 "cells": [
  {
   "cell_type": "markdown",
   "id": "f21457a1-50ba-4220-8cbd-bf1573a37c4a",
   "metadata": {},
   "source": [
    "# Installing R and RStudio\n",
    "\n",
    "## Installing R\n",
    "\n",
    "## Installing RStudio\n",
    "Although the default R interface is perfectly useable, it is very bare-bones."
   ]
  },
  {
   "cell_type": "code",
   "execution_count": null,
   "id": "18f0a72b-155e-4129-8e0a-004ab048ab2b",
   "metadata": {},
   "outputs": [],
   "source": []
  }
 ],
 "metadata": {
  "kernelspec": {
   "display_name": "R",
   "language": "R",
   "name": "ir"
  },
  "language_info": {
   "codemirror_mode": "r",
   "file_extension": ".r",
   "mimetype": "text/x-r-source",
   "name": "R",
   "pygments_lexer": "r",
   "version": "4.3.3"
  }
 },
 "nbformat": 4,
 "nbformat_minor": 5
}
